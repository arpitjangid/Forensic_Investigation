{
  "nbformat": 4,
  "nbformat_minor": 0,
  "metadata": {
    "colab": {
      "name": "10701_anand.ipynb",
      "provenance": [],
      "collapsed_sections": []
    },
    "kernelspec": {
      "name": "python3",
      "display_name": "Python 3"
    },
    "accelerator": "GPU"
  },
  "cells": [
    {
      "cell_type": "code",
      "metadata": {
        "id": "miTsY47nfz0G",
        "colab_type": "code",
        "outputId": "3f1d8dea-ee45-40e8-a98f-910a2f8471b0",
        "colab": {
          "base_uri": "https://localhost:8080/",
          "height": 54
        }
      },
      "source": [
        "from google.colab import drive\n",
        "drive.mount('/content/drive')"
      ],
      "execution_count": 0,
      "outputs": [
        {
          "output_type": "stream",
          "text": [
            "Drive already mounted at /content/drive; to attempt to forcibly remount, call drive.mount(\"/content/drive\", force_remount=True).\n"
          ],
          "name": "stdout"
        }
      ]
    },
    {
      "cell_type": "code",
      "metadata": {
        "id": "AxpU2xoGgu_W",
        "colab_type": "code",
        "colab": {}
      },
      "source": [
        ""
      ],
      "execution_count": 0,
      "outputs": []
    },
    {
      "cell_type": "code",
      "metadata": {
        "id": "6KZjbT8bhtgO",
        "colab_type": "code",
        "colab": {}
      },
      "source": [
        "# !git clone https://github.com/anandbhoraskar/img2vec.git\n",
        "# !cd img2vec && git pull origin master"
      ],
      "execution_count": 0,
      "outputs": []
    },
    {
      "cell_type": "code",
      "metadata": {
        "id": "lVxTQz4whwR3",
        "colab_type": "code",
        "colab": {}
      },
      "source": [
        "# !unzip /content/drive/My\\ Drive/Sem1/10701/data/FID-300.zip \n",
        "# !unzip /content/drive/My\\ Drive/Sem1/10701/data/CSFID.zip "
      ],
      "execution_count": 0,
      "outputs": []
    },
    {
      "cell_type": "code",
      "metadata": {
        "id": "1a8clTUgiQ3H",
        "colab_type": "code",
        "colab": {}
      },
      "source": [
        ""
      ],
      "execution_count": 0,
      "outputs": []
    },
    {
      "cell_type": "code",
      "metadata": {
        "id": "DPIBj71CkI1z",
        "colab_type": "code",
        "colab": {}
      },
      "source": [
        "import sys\n",
        "import os\n",
        "sys.path.insert(1, 'img2vec')\n",
        "from img2vec_pytorch import Img2Vec\n",
        "import img2vec_pytorch\n",
        "import importlib\n",
        "importlib.reload(img2vec_pytorch)\n",
        "\n",
        "from PIL import Image\n",
        "import numpy as np"
      ],
      "execution_count": 0,
      "outputs": []
    },
    {
      "cell_type": "code",
      "metadata": {
        "id": "5moesp_2mL36",
        "colab_type": "code",
        "colab": {}
      },
      "source": [
        "data_path = \"./FID-300/\""
      ],
      "execution_count": 0,
      "outputs": []
    },
    {
      "cell_type": "code",
      "metadata": {
        "id": "hW5q9s4Mmb5m",
        "colab_type": "code",
        "colab": {}
      },
      "source": [
        "from scipy.io import loadmat\n",
        "label_table = loadmat('FID-300/label_table.mat')\n",
        "label_table = label_table['label_table']\n",
        "# print(label_table['label_table'])"
      ],
      "execution_count": 0,
      "outputs": []
    },
    {
      "cell_type": "code",
      "metadata": {
        "id": "Xc39A10WpOhq",
        "colab_type": "code",
        "colab": {}
      },
      "source": [
        "references = np.arange(1, 1176)\n",
        "# print(references)\n",
        "\n",
        "test_val = np.arange(1, 301)\n",
        "# print(test_val)"
      ],
      "execution_count": 0,
      "outputs": []
    },
    {
      "cell_type": "markdown",
      "metadata": {
        "id": "4w9JOBhetIQA",
        "colab_type": "text"
      },
      "source": [
        ""
      ]
    },
    {
      "cell_type": "code",
      "metadata": {
        "id": "v6RjbrhFqHjr",
        "colab_type": "code",
        "colab": {}
      },
      "source": [
        "def file_path(i:int, data:str = 'ref'):\n",
        "  if data == 'ref':\n",
        "    # print('ref')\n",
        "    return data_path+\"/references/\"+\"{:05d}\".format(i)+\".png\"\n",
        "  else:\n",
        "    # print('test')\n",
        "    return data_path+\"/tracks_cropped/\"+\"{:05d}\".format(i)+\".jpg\""
      ],
      "execution_count": 0,
      "outputs": []
    },
    {
      "cell_type": "code",
      "metadata": {
        "id": "eywh6-zpqx9W",
        "colab_type": "code",
        "outputId": "5a254996-3d17-4e10-89cf-5dc3df982ff6",
        "colab": {
          "base_uri": "https://localhost:8080/",
          "height": 51
        }
      },
      "source": [
        "print(file_path(1, 'ref'))\n",
        "print(file_path(1, 'test'))"
      ],
      "execution_count": 0,
      "outputs": [
        {
          "output_type": "stream",
          "text": [
            "./FID-300//references/00001.png\n",
            "./FID-300//tracks_cropped/00001.jpg\n"
          ],
          "name": "stdout"
        }
      ]
    },
    {
      "cell_type": "code",
      "metadata": {
        "id": "OKpFUNNKsHFB",
        "colab_type": "code",
        "colab": {}
      },
      "source": [
        "ref_img_list = []\n",
        "for i in references:\n",
        "  img = Image.open(file_path(i,'ref'))\n",
        "  img = img.convert(\"RGB\")\n",
        "  ref_img_list.append(img)"
      ],
      "execution_count": 0,
      "outputs": []
    },
    {
      "cell_type": "code",
      "metadata": {
        "id": "nmsB-ALDsIam",
        "colab_type": "code",
        "colab": {}
      },
      "source": [
        "test_img_list = []\n",
        "for i in test_val:\n",
        "  img = Image.open(file_path(i,'test'))\n",
        "  img = img.convert(\"RGB\")\n",
        "  test_img_list.append(img)"
      ],
      "execution_count": 0,
      "outputs": []
    },
    {
      "cell_type": "code",
      "metadata": {
        "id": "P7LioWdTkaP6",
        "colab_type": "code",
        "colab": {}
      },
      "source": [
        "import img2vec_pytorch\n",
        "import importlib\n",
        "importlib.reload(img2vec_pytorch)\n",
        "img2vec = img2vec_pytorch.Img2Vec(cuda=True, layer_output_size=512)"
      ],
      "execution_count": 0,
      "outputs": []
    },
    {
      "cell_type": "code",
      "metadata": {
        "id": "FzuNxRQh40Nr",
        "colab_type": "code",
        "colab": {}
      },
      "source": [
        "# img2vec.layer_output_size = 2048\n",
        "# print(img2vec.layer_output_size)"
      ],
      "execution_count": 0,
      "outputs": []
    },
    {
      "cell_type": "code",
      "metadata": {
        "id": "KKfgCCQHuQ-V",
        "colab_type": "code",
        "colab": {}
      },
      "source": [
        "ref_vec_list = []\n",
        "test_vec_list = []\n",
        "\n",
        "ref_vec_list = [img2vec.get_vec(img, tensor=True) for img in ref_img_list]\n",
        "test_vec_list = [img2vec.get_vec(img, tensor=True) for img in test_img_list]"
      ],
      "execution_count": 0,
      "outputs": []
    },
    {
      "cell_type": "code",
      "metadata": {
        "id": "30zPluyi5HeH",
        "colab_type": "code",
        "colab": {}
      },
      "source": [
        "ref_vec_list_np = np.array([np.array(vec) for vec in ref_vec_list])\n",
        "test_vec_list_np = np.array([np.array(vec) for vec in test_vec_list])"
      ],
      "execution_count": 0,
      "outputs": []
    },
    {
      "cell_type": "code",
      "metadata": {
        "id": "zo_vxAQFuY8G",
        "colab_type": "code",
        "colab": {}
      },
      "source": [
        "ref_vec_list_np = ref_vec_list_np.reshape(1175, 2048)\n",
        "test_vec_list_np = test_vec_list_np.reshape(300, 2048)"
      ],
      "execution_count": 0,
      "outputs": []
    },
    {
      "cell_type": "code",
      "metadata": {
        "id": "hjYZZjBfx5c2",
        "colab_type": "code",
        "colab": {}
      },
      "source": [
        "from sklearn.metrics.pairwise import cosine_similarity\n",
        "score = cosine_similarity(test_vec_list_np, ref_vec_list_np)"
      ],
      "execution_count": 0,
      "outputs": []
    },
    {
      "cell_type": "code",
      "metadata": {
        "id": "yTk3yYhK9D56",
        "colab_type": "code",
        "colab": {}
      },
      "source": [
        "score_sort = (-score).argsort(1)"
      ],
      "execution_count": 0,
      "outputs": []
    },
    {
      "cell_type": "code",
      "metadata": {
        "id": "zAXI2S4w-u39",
        "colab_type": "code",
        "colab": {}
      },
      "source": [
        "pos_array = []\n",
        "for a,b,c in zip(score_sort, score.argmax(1), label_table[:, 1]-1):\n",
        "  pos_array.append(np.where(a==c)[0][0])\n",
        "pos_array = np.array(pos_array)\n",
        "  "
      ],
      "execution_count": 0,
      "outputs": []
    },
    {
      "cell_type": "code",
      "metadata": {
        "id": "yDBQQ3aoC6v0",
        "colab_type": "code",
        "outputId": "119617d8-a3d7-4f84-95c3-0662fb4b8626",
        "colab": {
          "base_uri": "https://localhost:8080/",
          "height": 34
        }
      },
      "source": [
        "t = 5\n",
        "thresh = t*pos_array.shape[0]/100\n",
        "acc = 100*np.sum((pos_array<thresh))/pos_array.shape[0]\n",
        "print(\"top {}: {}\".format(t, acc))"
      ],
      "execution_count": 0,
      "outputs": [
        {
          "output_type": "stream",
          "text": [
            "top 5: 22.666666666666668\n"
          ],
          "name": "stdout"
        }
      ]
    },
    {
      "cell_type": "code",
      "metadata": {
        "id": "OTXT0JErDsEl",
        "colab_type": "code",
        "outputId": "9737dc0c-1679-4a6a-87cc-d6ed635bbd9f",
        "colab": {
          "base_uri": "https://localhost:8080/",
          "height": 34
        }
      },
      "source": [
        "t = 10\n",
        "thresh = t*pos_array.shape[0]/100\n",
        "acc = 100*np.sum((pos_array<thresh))/pos_array.shape[0]\n",
        "print(\"top {}: {}\".format(t, acc))"
      ],
      "execution_count": 0,
      "outputs": [
        {
          "output_type": "stream",
          "text": [
            "top 10: 32.666666666666664\n"
          ],
          "name": "stdout"
        }
      ]
    },
    {
      "cell_type": "code",
      "metadata": {
        "id": "-0KamUynDwUk",
        "colab_type": "code",
        "colab": {}
      },
      "source": [
        "def find_scores(img2vec, layer_output_size=512, return_tensor=False):\n",
        "  if return_tensor:\n",
        "    ref_vec_list = np.array([img2vec.get_vec(img).mean(1).flatten().numpy() for img in ref_img_list])\n",
        "    test_vec_list = np.array([img2vec.get_vec(img).mean(1).flatten().numpy() for img in test_img_list])\n",
        "  else:\n",
        "    ref_vec_list = np.array([img2vec.get_vec(img) for img in ref_img_list])\n",
        "    test_vec_list = np.array([img2vec.get_vec(img) for img in test_img_list])\n",
        "\n",
        "  ref_vec_list = ref_vec_list.reshape(1175, layer_output_size)\n",
        "  test_vec_list = test_vec_list.reshape(300, layer_output_size)\n",
        "\n",
        "  # test_vec_list = (test_vec_list-test_vec_list.mean(1)[:, None])/test_vec_list.std(1)[:, None]\n",
        "  # ref_vec_list = (ref_vec_list-ref_vec_list.mean(1)[:, None])/ref_vec_list.std(1)[:, None]\n",
        "  score = cosine_similarity(test_vec_list, ref_vec_list)\n",
        "  score_sort = (-score).argsort(1)\n",
        "\n",
        "  pos_array = []\n",
        "  for a,b,c in zip(score_sort, score.argmax(1), label_table[:, 1]-1):\n",
        "    pos_array.append(np.where(a==c)[0][0])\n",
        "  pos_array = np.array(pos_array)\n",
        "\n",
        "  t = 5\n",
        "  thresh = t*pos_array.shape[0]/100\n",
        "  acc = 100*np.sum((pos_array<thresh))/pos_array.shape[0]\n",
        "  print(\"top {}: {}\".format(t, acc))\n",
        "\n",
        "  t = 10\n",
        "  thresh = t*pos_array.shape[0]/100\n",
        "  acc = 100*np.sum((pos_array<thresh))/pos_array.shape[0]\n",
        "  print(\"top {}: {}\".format(t, acc))\n",
        "  return score"
      ],
      "execution_count": 0,
      "outputs": []
    },
    {
      "cell_type": "code",
      "metadata": {
        "id": "pkK06M9SRe6G",
        "colab_type": "code",
        "colab": {}
      },
      "source": [
        "def mcncc(v1, v2):\n",
        "  den = np.linalg.norm(v1, axis=1)*np.linalg.norm(v2, axis=1) + 1e-12\n",
        "  num = (v1*v2).sum(axis=1)\n",
        "  return (num/den).sum()\n",
        "\n",
        "def find_scores_mcncc(img2vec, layer_output_size=512, return_tensor=False):\n",
        "  ref_vec_list = np.array([img2vec.get_vec(img).numpy() for img in ref_img_list])\n",
        "  test_vec_list = np.array([img2vec.get_vec(img).numpy() for img in test_img_list])\n",
        "\n",
        "  ref_vec_list = ref_vec_list.reshape(ref_vec_list.shape[0], ref_vec_list.shape[2],ref_vec_list.shape[3]*ref_vec_list.shape[4])\n",
        "  test_vec_list = test_vec_list.reshape(test_vec_list.shape[0], test_vec_list.shape[2], test_vec_list.shape[3]*test_vec_list.shape[4])\n",
        "\n",
        "  test_vec_list = (test_vec_list-test_vec_list.mean(1)[:, None])/test_vec_list.std(1)[:, None]\n",
        "  ref_vec_list = (ref_vec_list-ref_vec_list.mean(1)[:, None])/ref_vec_list.std(1)[:, None]\n",
        "  print(\"computing score\")\n",
        "  score = np.zeros((test_vec_list.shape[0], ref_vec_list.shape[0]))\n",
        "  for i, v1 in enumerate(test_vec_list):\n",
        "    for j, v2 in enumerate(ref_vec_list):\n",
        "      score[i, j] = mcncc(v1, v2)\n",
        "\n",
        "  score_sort = (-score).argsort(1)\n",
        "\n",
        "  pos_array = []\n",
        "  for a,b,c in zip(score_sort, score.argmax(1), label_table[:, 1]-1):\n",
        "    pos_array.append(np.where(a==c)[0][0])\n",
        "  pos_array = np.array(pos_array)\n",
        "\n",
        "  t = 5\n",
        "  thresh = t*pos_array.shape[0]/100\n",
        "  acc = 100*np.sum((pos_array<thresh))/pos_array.shape[0]\n",
        "  print(\"top {}: {}\".format(t, acc))\n",
        "\n",
        "  t = 10\n",
        "  thresh = t*pos_array.shape[0]/100\n",
        "  acc = 100*np.sum((pos_array<thresh))/pos_array.shape[0]\n",
        "  print(\"top {}: {}\".format(t, acc))\n",
        "  return score"
      ],
      "execution_count": 0,
      "outputs": []
    },
    {
      "cell_type": "code",
      "metadata": {
        "id": "m-SgIflpWIZH",
        "colab_type": "code",
        "outputId": "b686e0a0-d60a-4136-f8f3-afbfc5a65e39",
        "colab": {
          "base_uri": "https://localhost:8080/",
          "height": 68
        }
      },
      "source": [
        "img2vec = img2vec_pytorch.Img2Vec(cuda=True, layer_output_size=2048, centre_crop=True)\n",
        "print(img2vec.layer_output_size)\n",
        "score_layer4 = find_scores(img2vec, 2048)\n",
        "\n",
        "# Cos sim\n",
        "# top 5: 22.666666666666668\n",
        "# top 10: 32.666666666666664\n",
        "\n",
        "# Normalize:\n",
        "# top 5: 22.333333333333332\n",
        "# top 10: 30.333333333333332"
      ],
      "execution_count": 0,
      "outputs": [
        {
          "output_type": "stream",
          "text": [
            "2048\n",
            "top 5: 24.666666666666668\n",
            "top 10: 35.0\n"
          ],
          "name": "stdout"
        }
      ]
    },
    {
      "cell_type": "code",
      "metadata": {
        "id": "nD3YZhFoWNvV",
        "colab_type": "code",
        "outputId": "8f1006a3-5669-4ee7-9357-b4a1999370e0",
        "colab": {
          "base_uri": "https://localhost:8080/",
          "height": 51
        }
      },
      "source": [
        "img2vec_layer3 = img2vec_pytorch.Img2Vec(cuda=True, layer='layer3', layer_output_size=1024, centre_crop=True)\n",
        "score_layer3 = find_scores(img2vec_layer3, 1024)\n",
        "\n",
        "# Cos\n",
        "# top 5: 6.0\n",
        "# top 10: 8.666666666666666"
      ],
      "execution_count": 0,
      "outputs": [
        {
          "output_type": "stream",
          "text": [
            "top 5: 22.666666666666668\n",
            "top 10: 27.666666666666668\n"
          ],
          "name": "stdout"
        }
      ]
    },
    {
      "cell_type": "code",
      "metadata": {
        "id": "KfgXXcWPX_Wv",
        "colab_type": "code",
        "outputId": "e50f2b55-45b1-41d1-935d-b17e94a99d76",
        "colab": {
          "base_uri": "https://localhost:8080/",
          "height": 51
        }
      },
      "source": [
        "img2vec_layer2 = img2vec_pytorch.Img2Vec(cuda=True, layer='layer2', layer_output_size=512, channels=28)\n",
        "score_layer2 = find_scores(img2vec_layer2, 512)\n",
        "\n",
        "# Cos\n",
        "# top 5: 7.0\n",
        "# top 10: 11.0"
      ],
      "execution_count": 0,
      "outputs": [
        {
          "output_type": "stream",
          "text": [
            "top 5: 9.666666666666666\n",
            "top 10: 13.666666666666666\n"
          ],
          "name": "stdout"
        }
      ]
    },
    {
      "cell_type": "code",
      "metadata": {
        "id": "5Flg9R1mjz4x",
        "colab_type": "code",
        "outputId": "b740a001-ab08-4673-f569-8b1ae94c30be",
        "colab": {
          "base_uri": "https://localhost:8080/",
          "height": 51
        }
      },
      "source": [
        "img2vec_layer1 = img2vec_pytorch.Img2Vec(cuda=True, layer='layer1', layer_output_size=256, channels=56)\n",
        "score_layer1 = find_scores(img2vec_layer1, 256)\n",
        "\n",
        "#Cos\n",
        "# top 5: 5.333333333333333\n",
        "# top 10: 7.0"
      ],
      "execution_count": 0,
      "outputs": [
        {
          "output_type": "stream",
          "text": [
            "top 5: 11.0\n",
            "top 10: 17.333333333333332\n"
          ],
          "name": "stdout"
        }
      ]
    },
    {
      "cell_type": "code",
      "metadata": {
        "id": "dvs-0la5hc5w",
        "colab_type": "code",
        "outputId": "4a3b83d8-0ffd-4f72-fc34-3450c12f73d5",
        "colab": {
          "base_uri": "https://localhost:8080/",
          "height": 51
        }
      },
      "source": [
        "img2vec = img2vec_pytorch.Img2Vec(\n",
        "    cuda=True, layer='layer1', layer_output_size=256, \n",
        "    channels=56, return_embedding=True)\n",
        "score_layer2_conv = find_scores(img2vec, 3136, return_tensor=True)\n",
        "\n",
        "#Cos\n",
        "# top 5: 7.333333333333333\n",
        "# top 10: 10.0"
      ],
      "execution_count": 0,
      "outputs": [
        {
          "output_type": "stream",
          "text": [
            "top 5: 2.3333333333333335\n",
            "top 10: 3.6666666666666665\n"
          ],
          "name": "stdout"
        }
      ]
    },
    {
      "cell_type": "code",
      "metadata": {
        "id": "RNXC7nN4oB2B",
        "colab_type": "code",
        "outputId": "f69198ec-994d-4178-88f9-5a77f548e8cd",
        "colab": {
          "base_uri": "https://localhost:8080/",
          "height": 51
        }
      },
      "source": [
        "img2vec = img2vec_pytorch.Img2Vec(\n",
        "    cuda=True, layer='layer2', layer_output_size=128, \n",
        "    channels=28, return_embedding=True)\n",
        "score_layer2_conv = find_scores(img2vec, 784, return_tensor=True)\n",
        "\n",
        "# cos\n",
        "# top 5: 5.0\n",
        "# top 10: 9.333333333333334"
      ],
      "execution_count": 0,
      "outputs": [
        {
          "output_type": "stream",
          "text": [
            "top 5: 7.0\n",
            "top 10: 9.666666666666666\n"
          ],
          "name": "stdout"
        }
      ]
    },
    {
      "cell_type": "code",
      "metadata": {
        "id": "R_lt-V3So7Zk",
        "colab_type": "code",
        "outputId": "f67518a6-71a2-4da9-9bd4-6c4a77d0517b",
        "colab": {
          "base_uri": "https://localhost:8080/",
          "height": 51
        }
      },
      "source": [
        "img2vec = img2vec_pytorch.Img2Vec(\n",
        "    cuda=True, layer='layer3', layer_output_size=256, \n",
        "    channels=14, return_embedding=True)\n",
        "score_layer2_conv = find_scores(img2vec, 196, return_tensor=True)\n",
        "\n",
        "# cos\n",
        "# top 5: 9.666666666666666\n",
        "# top 10: 15.666666666666666"
      ],
      "execution_count": 0,
      "outputs": [
        {
          "output_type": "stream",
          "text": [
            "top 5: 7.666666666666667\n",
            "top 10: 12.0\n"
          ],
          "name": "stdout"
        }
      ]
    },
    {
      "cell_type": "code",
      "metadata": {
        "id": "AeoYmHrvpFtC",
        "colab_type": "code",
        "outputId": "16422562-8643-4be1-e5bc-5f5c05a00c4b",
        "colab": {
          "base_uri": "https://localhost:8080/",
          "height": 51
        }
      },
      "source": [
        "img2vec = img2vec_pytorch.Img2Vec(\n",
        "    cuda=True, layer='layer4', layer_output_size=512, \n",
        "    channels=7, return_embedding=True)\n",
        "score_layer2_conv = find_scores(img2vec, 49, return_tensor=True)\n",
        "\n",
        "# cos\n",
        "# top 5: 2.3333333333333335\n",
        "# top 10: 4.0"
      ],
      "execution_count": 0,
      "outputs": [
        {
          "output_type": "stream",
          "text": [
            "top 5: 4.333333333333333\n",
            "top 10: 5.0\n"
          ],
          "name": "stdout"
        }
      ]
    },
    {
      "cell_type": "code",
      "metadata": {
        "id": "czeeYVMqdTrs",
        "colab_type": "code",
        "colab": {}
      },
      "source": [
        ""
      ],
      "execution_count": 0,
      "outputs": []
    },
    {
      "cell_type": "code",
      "metadata": {
        "colab_type": "code",
        "id": "sRQnZb4M9QLq",
        "outputId": "dddf074c-5ab9-406b-df98-16e996ed0e9f",
        "colab": {
          "base_uri": "https://localhost:8080/",
          "height": 341
        }
      },
      "source": [
        "img2vec = img2vec_pytorch.Img2Vec(\n",
        "    cuda=True, layer='layer1', layer_output_size=64, \n",
        "    channels=56, return_embedding=True, centre_crop=True)\n",
        "score_layer2_conv = find_scores(img2vec, 3136, return_tensor=True)"
      ],
      "execution_count": 0,
      "outputs": [
        {
          "output_type": "error",
          "ename": "KeyboardInterrupt",
          "evalue": "ignored",
          "traceback": [
            "\u001b[0;31m---------------------------------------------------------------------------\u001b[0m",
            "\u001b[0;31mKeyboardInterrupt\u001b[0m                         Traceback (most recent call last)",
            "\u001b[0;32m<ipython-input-33-413d90a64764>\u001b[0m in \u001b[0;36m<module>\u001b[0;34m()\u001b[0m\n\u001b[1;32m      2\u001b[0m     \u001b[0mcuda\u001b[0m\u001b[0;34m=\u001b[0m\u001b[0;32mTrue\u001b[0m\u001b[0;34m,\u001b[0m \u001b[0mlayer\u001b[0m\u001b[0;34m=\u001b[0m\u001b[0;34m'layer1'\u001b[0m\u001b[0;34m,\u001b[0m \u001b[0mlayer_output_size\u001b[0m\u001b[0;34m=\u001b[0m\u001b[0;36m64\u001b[0m\u001b[0;34m,\u001b[0m\u001b[0;34m\u001b[0m\u001b[0;34m\u001b[0m\u001b[0m\n\u001b[1;32m      3\u001b[0m     channels=56, return_embedding=True, centre_crop=True)\n\u001b[0;32m----> 4\u001b[0;31m \u001b[0mscore_layer2_conv\u001b[0m \u001b[0;34m=\u001b[0m \u001b[0mfind_scores\u001b[0m\u001b[0;34m(\u001b[0m\u001b[0mimg2vec\u001b[0m\u001b[0;34m,\u001b[0m \u001b[0;36m3136\u001b[0m\u001b[0;34m,\u001b[0m \u001b[0mreturn_tensor\u001b[0m\u001b[0;34m=\u001b[0m\u001b[0;32mTrue\u001b[0m\u001b[0;34m)\u001b[0m\u001b[0;34m\u001b[0m\u001b[0;34m\u001b[0m\u001b[0m\n\u001b[0m",
            "\u001b[0;32m<ipython-input-23-099a61c1168d>\u001b[0m in \u001b[0;36mfind_scores\u001b[0;34m(img2vec, layer_output_size, return_tensor)\u001b[0m\n\u001b[1;32m      1\u001b[0m \u001b[0;32mdef\u001b[0m \u001b[0mfind_scores\u001b[0m\u001b[0;34m(\u001b[0m\u001b[0mimg2vec\u001b[0m\u001b[0;34m,\u001b[0m \u001b[0mlayer_output_size\u001b[0m\u001b[0;34m=\u001b[0m\u001b[0;36m512\u001b[0m\u001b[0;34m,\u001b[0m \u001b[0mreturn_tensor\u001b[0m\u001b[0;34m=\u001b[0m\u001b[0;32mFalse\u001b[0m\u001b[0;34m)\u001b[0m\u001b[0;34m:\u001b[0m\u001b[0;34m\u001b[0m\u001b[0;34m\u001b[0m\u001b[0m\n\u001b[1;32m      2\u001b[0m   \u001b[0;32mif\u001b[0m \u001b[0mreturn_tensor\u001b[0m\u001b[0;34m:\u001b[0m\u001b[0;34m\u001b[0m\u001b[0;34m\u001b[0m\u001b[0m\n\u001b[0;32m----> 3\u001b[0;31m     \u001b[0mref_vec_list\u001b[0m \u001b[0;34m=\u001b[0m \u001b[0mnp\u001b[0m\u001b[0;34m.\u001b[0m\u001b[0marray\u001b[0m\u001b[0;34m(\u001b[0m\u001b[0;34m[\u001b[0m\u001b[0mimg2vec\u001b[0m\u001b[0;34m.\u001b[0m\u001b[0mget_vec\u001b[0m\u001b[0;34m(\u001b[0m\u001b[0mimg\u001b[0m\u001b[0;34m)\u001b[0m\u001b[0;34m.\u001b[0m\u001b[0mmean\u001b[0m\u001b[0;34m(\u001b[0m\u001b[0;36m1\u001b[0m\u001b[0;34m)\u001b[0m\u001b[0;34m.\u001b[0m\u001b[0mflatten\u001b[0m\u001b[0;34m(\u001b[0m\u001b[0;34m)\u001b[0m\u001b[0;34m.\u001b[0m\u001b[0mnumpy\u001b[0m\u001b[0;34m(\u001b[0m\u001b[0;34m)\u001b[0m \u001b[0;32mfor\u001b[0m \u001b[0mimg\u001b[0m \u001b[0;32min\u001b[0m \u001b[0mref_img_list\u001b[0m\u001b[0;34m]\u001b[0m\u001b[0;34m)\u001b[0m\u001b[0;34m\u001b[0m\u001b[0;34m\u001b[0m\u001b[0m\n\u001b[0m\u001b[1;32m      4\u001b[0m     \u001b[0mtest_vec_list\u001b[0m \u001b[0;34m=\u001b[0m \u001b[0mnp\u001b[0m\u001b[0;34m.\u001b[0m\u001b[0marray\u001b[0m\u001b[0;34m(\u001b[0m\u001b[0;34m[\u001b[0m\u001b[0mimg2vec\u001b[0m\u001b[0;34m.\u001b[0m\u001b[0mget_vec\u001b[0m\u001b[0;34m(\u001b[0m\u001b[0mimg\u001b[0m\u001b[0;34m)\u001b[0m\u001b[0;34m.\u001b[0m\u001b[0mmean\u001b[0m\u001b[0;34m(\u001b[0m\u001b[0;36m1\u001b[0m\u001b[0;34m)\u001b[0m\u001b[0;34m.\u001b[0m\u001b[0mflatten\u001b[0m\u001b[0;34m(\u001b[0m\u001b[0;34m)\u001b[0m\u001b[0;34m.\u001b[0m\u001b[0mnumpy\u001b[0m\u001b[0;34m(\u001b[0m\u001b[0;34m)\u001b[0m \u001b[0;32mfor\u001b[0m \u001b[0mimg\u001b[0m \u001b[0;32min\u001b[0m \u001b[0mtest_img_list\u001b[0m\u001b[0;34m]\u001b[0m\u001b[0;34m)\u001b[0m\u001b[0;34m\u001b[0m\u001b[0;34m\u001b[0m\u001b[0m\n\u001b[1;32m      5\u001b[0m   \u001b[0;32melse\u001b[0m\u001b[0;34m:\u001b[0m\u001b[0;34m\u001b[0m\u001b[0;34m\u001b[0m\u001b[0m\n",
            "\u001b[0;32m<ipython-input-23-099a61c1168d>\u001b[0m in \u001b[0;36m<listcomp>\u001b[0;34m(.0)\u001b[0m\n\u001b[1;32m      1\u001b[0m \u001b[0;32mdef\u001b[0m \u001b[0mfind_scores\u001b[0m\u001b[0;34m(\u001b[0m\u001b[0mimg2vec\u001b[0m\u001b[0;34m,\u001b[0m \u001b[0mlayer_output_size\u001b[0m\u001b[0;34m=\u001b[0m\u001b[0;36m512\u001b[0m\u001b[0;34m,\u001b[0m \u001b[0mreturn_tensor\u001b[0m\u001b[0;34m=\u001b[0m\u001b[0;32mFalse\u001b[0m\u001b[0;34m)\u001b[0m\u001b[0;34m:\u001b[0m\u001b[0;34m\u001b[0m\u001b[0;34m\u001b[0m\u001b[0m\n\u001b[1;32m      2\u001b[0m   \u001b[0;32mif\u001b[0m \u001b[0mreturn_tensor\u001b[0m\u001b[0;34m:\u001b[0m\u001b[0;34m\u001b[0m\u001b[0;34m\u001b[0m\u001b[0m\n\u001b[0;32m----> 3\u001b[0;31m     \u001b[0mref_vec_list\u001b[0m \u001b[0;34m=\u001b[0m \u001b[0mnp\u001b[0m\u001b[0;34m.\u001b[0m\u001b[0marray\u001b[0m\u001b[0;34m(\u001b[0m\u001b[0;34m[\u001b[0m\u001b[0mimg2vec\u001b[0m\u001b[0;34m.\u001b[0m\u001b[0mget_vec\u001b[0m\u001b[0;34m(\u001b[0m\u001b[0mimg\u001b[0m\u001b[0;34m)\u001b[0m\u001b[0;34m.\u001b[0m\u001b[0mmean\u001b[0m\u001b[0;34m(\u001b[0m\u001b[0;36m1\u001b[0m\u001b[0;34m)\u001b[0m\u001b[0;34m.\u001b[0m\u001b[0mflatten\u001b[0m\u001b[0;34m(\u001b[0m\u001b[0;34m)\u001b[0m\u001b[0;34m.\u001b[0m\u001b[0mnumpy\u001b[0m\u001b[0;34m(\u001b[0m\u001b[0;34m)\u001b[0m \u001b[0;32mfor\u001b[0m \u001b[0mimg\u001b[0m \u001b[0;32min\u001b[0m \u001b[0mref_img_list\u001b[0m\u001b[0;34m]\u001b[0m\u001b[0;34m)\u001b[0m\u001b[0;34m\u001b[0m\u001b[0;34m\u001b[0m\u001b[0m\n\u001b[0m\u001b[1;32m      4\u001b[0m     \u001b[0mtest_vec_list\u001b[0m \u001b[0;34m=\u001b[0m \u001b[0mnp\u001b[0m\u001b[0;34m.\u001b[0m\u001b[0marray\u001b[0m\u001b[0;34m(\u001b[0m\u001b[0;34m[\u001b[0m\u001b[0mimg2vec\u001b[0m\u001b[0;34m.\u001b[0m\u001b[0mget_vec\u001b[0m\u001b[0;34m(\u001b[0m\u001b[0mimg\u001b[0m\u001b[0;34m)\u001b[0m\u001b[0;34m.\u001b[0m\u001b[0mmean\u001b[0m\u001b[0;34m(\u001b[0m\u001b[0;36m1\u001b[0m\u001b[0;34m)\u001b[0m\u001b[0;34m.\u001b[0m\u001b[0mflatten\u001b[0m\u001b[0;34m(\u001b[0m\u001b[0;34m)\u001b[0m\u001b[0;34m.\u001b[0m\u001b[0mnumpy\u001b[0m\u001b[0;34m(\u001b[0m\u001b[0;34m)\u001b[0m \u001b[0;32mfor\u001b[0m \u001b[0mimg\u001b[0m \u001b[0;32min\u001b[0m \u001b[0mtest_img_list\u001b[0m\u001b[0;34m]\u001b[0m\u001b[0;34m)\u001b[0m\u001b[0;34m\u001b[0m\u001b[0;34m\u001b[0m\u001b[0m\n\u001b[1;32m      5\u001b[0m   \u001b[0;32melse\u001b[0m\u001b[0;34m:\u001b[0m\u001b[0;34m\u001b[0m\u001b[0;34m\u001b[0m\u001b[0m\n",
            "\u001b[0;32m/content/img2vec/img2vec_pytorch/img_to_vec.py\u001b[0m in \u001b[0;36mget_vec\u001b[0;34m(self, img, tensor)\u001b[0m\n\u001b[1;32m     55\u001b[0m \u001b[0;34m\u001b[0m\u001b[0m\n\u001b[1;32m     56\u001b[0m         \u001b[0mh\u001b[0m \u001b[0;34m=\u001b[0m \u001b[0mself\u001b[0m\u001b[0;34m.\u001b[0m\u001b[0mextraction_layer\u001b[0m\u001b[0;34m.\u001b[0m\u001b[0mregister_forward_hook\u001b[0m\u001b[0;34m(\u001b[0m\u001b[0mcopy_data\u001b[0m\u001b[0;34m)\u001b[0m\u001b[0;34m\u001b[0m\u001b[0;34m\u001b[0m\u001b[0m\n\u001b[0;32m---> 57\u001b[0;31m         \u001b[0mh_x\u001b[0m \u001b[0;34m=\u001b[0m \u001b[0mself\u001b[0m\u001b[0;34m.\u001b[0m\u001b[0mmodel\u001b[0m\u001b[0;34m(\u001b[0m\u001b[0mimage\u001b[0m\u001b[0;34m)\u001b[0m\u001b[0;34m\u001b[0m\u001b[0;34m\u001b[0m\u001b[0m\n\u001b[0m\u001b[1;32m     58\u001b[0m         \u001b[0mh\u001b[0m\u001b[0;34m.\u001b[0m\u001b[0mremove\u001b[0m\u001b[0;34m(\u001b[0m\u001b[0;34m)\u001b[0m\u001b[0;34m\u001b[0m\u001b[0;34m\u001b[0m\u001b[0m\n\u001b[1;32m     59\u001b[0m \u001b[0;34m\u001b[0m\u001b[0m\n",
            "\u001b[0;32m/usr/local/lib/python3.6/dist-packages/torch/nn/modules/module.py\u001b[0m in \u001b[0;36m__call__\u001b[0;34m(self, *input, **kwargs)\u001b[0m\n\u001b[1;32m    539\u001b[0m             \u001b[0mresult\u001b[0m \u001b[0;34m=\u001b[0m \u001b[0mself\u001b[0m\u001b[0;34m.\u001b[0m\u001b[0m_slow_forward\u001b[0m\u001b[0;34m(\u001b[0m\u001b[0;34m*\u001b[0m\u001b[0minput\u001b[0m\u001b[0;34m,\u001b[0m \u001b[0;34m**\u001b[0m\u001b[0mkwargs\u001b[0m\u001b[0;34m)\u001b[0m\u001b[0;34m\u001b[0m\u001b[0;34m\u001b[0m\u001b[0m\n\u001b[1;32m    540\u001b[0m         \u001b[0;32melse\u001b[0m\u001b[0;34m:\u001b[0m\u001b[0;34m\u001b[0m\u001b[0;34m\u001b[0m\u001b[0m\n\u001b[0;32m--> 541\u001b[0;31m             \u001b[0mresult\u001b[0m \u001b[0;34m=\u001b[0m \u001b[0mself\u001b[0m\u001b[0;34m.\u001b[0m\u001b[0mforward\u001b[0m\u001b[0;34m(\u001b[0m\u001b[0;34m*\u001b[0m\u001b[0minput\u001b[0m\u001b[0;34m,\u001b[0m \u001b[0;34m**\u001b[0m\u001b[0mkwargs\u001b[0m\u001b[0;34m)\u001b[0m\u001b[0;34m\u001b[0m\u001b[0;34m\u001b[0m\u001b[0m\n\u001b[0m\u001b[1;32m    542\u001b[0m         \u001b[0;32mfor\u001b[0m \u001b[0mhook\u001b[0m \u001b[0;32min\u001b[0m \u001b[0mself\u001b[0m\u001b[0;34m.\u001b[0m\u001b[0m_forward_hooks\u001b[0m\u001b[0;34m.\u001b[0m\u001b[0mvalues\u001b[0m\u001b[0;34m(\u001b[0m\u001b[0;34m)\u001b[0m\u001b[0;34m:\u001b[0m\u001b[0;34m\u001b[0m\u001b[0;34m\u001b[0m\u001b[0m\n\u001b[1;32m    543\u001b[0m             \u001b[0mhook_result\u001b[0m \u001b[0;34m=\u001b[0m \u001b[0mhook\u001b[0m\u001b[0;34m(\u001b[0m\u001b[0mself\u001b[0m\u001b[0;34m,\u001b[0m \u001b[0minput\u001b[0m\u001b[0;34m,\u001b[0m \u001b[0mresult\u001b[0m\u001b[0;34m)\u001b[0m\u001b[0;34m\u001b[0m\u001b[0;34m\u001b[0m\u001b[0m\n",
            "\u001b[0;32m/usr/local/lib/python3.6/dist-packages/torchvision/models/resnet.py\u001b[0m in \u001b[0;36mforward\u001b[0;34m(self, x)\u001b[0m\n\u001b[1;32m    202\u001b[0m         \u001b[0mx\u001b[0m \u001b[0;34m=\u001b[0m \u001b[0mself\u001b[0m\u001b[0;34m.\u001b[0m\u001b[0mlayer2\u001b[0m\u001b[0;34m(\u001b[0m\u001b[0mx\u001b[0m\u001b[0;34m)\u001b[0m\u001b[0;34m\u001b[0m\u001b[0;34m\u001b[0m\u001b[0m\n\u001b[1;32m    203\u001b[0m         \u001b[0mx\u001b[0m \u001b[0;34m=\u001b[0m \u001b[0mself\u001b[0m\u001b[0;34m.\u001b[0m\u001b[0mlayer3\u001b[0m\u001b[0;34m(\u001b[0m\u001b[0mx\u001b[0m\u001b[0;34m)\u001b[0m\u001b[0;34m\u001b[0m\u001b[0;34m\u001b[0m\u001b[0m\n\u001b[0;32m--> 204\u001b[0;31m         \u001b[0mx\u001b[0m \u001b[0;34m=\u001b[0m \u001b[0mself\u001b[0m\u001b[0;34m.\u001b[0m\u001b[0mlayer4\u001b[0m\u001b[0;34m(\u001b[0m\u001b[0mx\u001b[0m\u001b[0;34m)\u001b[0m\u001b[0;34m\u001b[0m\u001b[0;34m\u001b[0m\u001b[0m\n\u001b[0m\u001b[1;32m    205\u001b[0m \u001b[0;34m\u001b[0m\u001b[0m\n\u001b[1;32m    206\u001b[0m         \u001b[0mx\u001b[0m \u001b[0;34m=\u001b[0m \u001b[0mself\u001b[0m\u001b[0;34m.\u001b[0m\u001b[0mavgpool\u001b[0m\u001b[0;34m(\u001b[0m\u001b[0mx\u001b[0m\u001b[0;34m)\u001b[0m\u001b[0;34m\u001b[0m\u001b[0;34m\u001b[0m\u001b[0m\n",
            "\u001b[0;32m/usr/local/lib/python3.6/dist-packages/torch/nn/modules/module.py\u001b[0m in \u001b[0;36m__call__\u001b[0;34m(self, *input, **kwargs)\u001b[0m\n\u001b[1;32m    539\u001b[0m             \u001b[0mresult\u001b[0m \u001b[0;34m=\u001b[0m \u001b[0mself\u001b[0m\u001b[0;34m.\u001b[0m\u001b[0m_slow_forward\u001b[0m\u001b[0;34m(\u001b[0m\u001b[0;34m*\u001b[0m\u001b[0minput\u001b[0m\u001b[0;34m,\u001b[0m \u001b[0;34m**\u001b[0m\u001b[0mkwargs\u001b[0m\u001b[0;34m)\u001b[0m\u001b[0;34m\u001b[0m\u001b[0;34m\u001b[0m\u001b[0m\n\u001b[1;32m    540\u001b[0m         \u001b[0;32melse\u001b[0m\u001b[0;34m:\u001b[0m\u001b[0;34m\u001b[0m\u001b[0;34m\u001b[0m\u001b[0m\n\u001b[0;32m--> 541\u001b[0;31m             \u001b[0mresult\u001b[0m \u001b[0;34m=\u001b[0m \u001b[0mself\u001b[0m\u001b[0;34m.\u001b[0m\u001b[0mforward\u001b[0m\u001b[0;34m(\u001b[0m\u001b[0;34m*\u001b[0m\u001b[0minput\u001b[0m\u001b[0;34m,\u001b[0m \u001b[0;34m**\u001b[0m\u001b[0mkwargs\u001b[0m\u001b[0;34m)\u001b[0m\u001b[0;34m\u001b[0m\u001b[0;34m\u001b[0m\u001b[0m\n\u001b[0m\u001b[1;32m    542\u001b[0m         \u001b[0;32mfor\u001b[0m \u001b[0mhook\u001b[0m \u001b[0;32min\u001b[0m \u001b[0mself\u001b[0m\u001b[0;34m.\u001b[0m\u001b[0m_forward_hooks\u001b[0m\u001b[0;34m.\u001b[0m\u001b[0mvalues\u001b[0m\u001b[0;34m(\u001b[0m\u001b[0;34m)\u001b[0m\u001b[0;34m:\u001b[0m\u001b[0;34m\u001b[0m\u001b[0;34m\u001b[0m\u001b[0m\n\u001b[1;32m    543\u001b[0m             \u001b[0mhook_result\u001b[0m \u001b[0;34m=\u001b[0m \u001b[0mhook\u001b[0m\u001b[0;34m(\u001b[0m\u001b[0mself\u001b[0m\u001b[0;34m,\u001b[0m \u001b[0minput\u001b[0m\u001b[0;34m,\u001b[0m \u001b[0mresult\u001b[0m\u001b[0;34m)\u001b[0m\u001b[0;34m\u001b[0m\u001b[0;34m\u001b[0m\u001b[0m\n",
            "\u001b[0;32m/usr/local/lib/python3.6/dist-packages/torch/nn/modules/container.py\u001b[0m in \u001b[0;36mforward\u001b[0;34m(self, input)\u001b[0m\n\u001b[1;32m     90\u001b[0m     \u001b[0;32mdef\u001b[0m \u001b[0mforward\u001b[0m\u001b[0;34m(\u001b[0m\u001b[0mself\u001b[0m\u001b[0;34m,\u001b[0m \u001b[0minput\u001b[0m\u001b[0;34m)\u001b[0m\u001b[0;34m:\u001b[0m\u001b[0;34m\u001b[0m\u001b[0;34m\u001b[0m\u001b[0m\n\u001b[1;32m     91\u001b[0m         \u001b[0;32mfor\u001b[0m \u001b[0mmodule\u001b[0m \u001b[0;32min\u001b[0m \u001b[0mself\u001b[0m\u001b[0;34m.\u001b[0m\u001b[0m_modules\u001b[0m\u001b[0;34m.\u001b[0m\u001b[0mvalues\u001b[0m\u001b[0;34m(\u001b[0m\u001b[0;34m)\u001b[0m\u001b[0;34m:\u001b[0m\u001b[0;34m\u001b[0m\u001b[0;34m\u001b[0m\u001b[0m\n\u001b[0;32m---> 92\u001b[0;31m             \u001b[0minput\u001b[0m \u001b[0;34m=\u001b[0m \u001b[0mmodule\u001b[0m\u001b[0;34m(\u001b[0m\u001b[0minput\u001b[0m\u001b[0;34m)\u001b[0m\u001b[0;34m\u001b[0m\u001b[0;34m\u001b[0m\u001b[0m\n\u001b[0m\u001b[1;32m     93\u001b[0m         \u001b[0;32mreturn\u001b[0m \u001b[0minput\u001b[0m\u001b[0;34m\u001b[0m\u001b[0;34m\u001b[0m\u001b[0m\n\u001b[1;32m     94\u001b[0m \u001b[0;34m\u001b[0m\u001b[0m\n",
            "\u001b[0;32m/usr/local/lib/python3.6/dist-packages/torch/nn/modules/module.py\u001b[0m in \u001b[0;36m__call__\u001b[0;34m(self, *input, **kwargs)\u001b[0m\n\u001b[1;32m    539\u001b[0m             \u001b[0mresult\u001b[0m \u001b[0;34m=\u001b[0m \u001b[0mself\u001b[0m\u001b[0;34m.\u001b[0m\u001b[0m_slow_forward\u001b[0m\u001b[0;34m(\u001b[0m\u001b[0;34m*\u001b[0m\u001b[0minput\u001b[0m\u001b[0;34m,\u001b[0m \u001b[0;34m**\u001b[0m\u001b[0mkwargs\u001b[0m\u001b[0;34m)\u001b[0m\u001b[0;34m\u001b[0m\u001b[0;34m\u001b[0m\u001b[0m\n\u001b[1;32m    540\u001b[0m         \u001b[0;32melse\u001b[0m\u001b[0;34m:\u001b[0m\u001b[0;34m\u001b[0m\u001b[0;34m\u001b[0m\u001b[0m\n\u001b[0;32m--> 541\u001b[0;31m             \u001b[0mresult\u001b[0m \u001b[0;34m=\u001b[0m \u001b[0mself\u001b[0m\u001b[0;34m.\u001b[0m\u001b[0mforward\u001b[0m\u001b[0;34m(\u001b[0m\u001b[0;34m*\u001b[0m\u001b[0minput\u001b[0m\u001b[0;34m,\u001b[0m \u001b[0;34m**\u001b[0m\u001b[0mkwargs\u001b[0m\u001b[0;34m)\u001b[0m\u001b[0;34m\u001b[0m\u001b[0;34m\u001b[0m\u001b[0m\n\u001b[0m\u001b[1;32m    542\u001b[0m         \u001b[0;32mfor\u001b[0m \u001b[0mhook\u001b[0m \u001b[0;32min\u001b[0m \u001b[0mself\u001b[0m\u001b[0;34m.\u001b[0m\u001b[0m_forward_hooks\u001b[0m\u001b[0;34m.\u001b[0m\u001b[0mvalues\u001b[0m\u001b[0;34m(\u001b[0m\u001b[0;34m)\u001b[0m\u001b[0;34m:\u001b[0m\u001b[0;34m\u001b[0m\u001b[0;34m\u001b[0m\u001b[0m\n\u001b[1;32m    543\u001b[0m             \u001b[0mhook_result\u001b[0m \u001b[0;34m=\u001b[0m \u001b[0mhook\u001b[0m\u001b[0;34m(\u001b[0m\u001b[0mself\u001b[0m\u001b[0;34m,\u001b[0m \u001b[0minput\u001b[0m\u001b[0;34m,\u001b[0m \u001b[0mresult\u001b[0m\u001b[0;34m)\u001b[0m\u001b[0;34m\u001b[0m\u001b[0;34m\u001b[0m\u001b[0m\n",
            "\u001b[0;32m/usr/local/lib/python3.6/dist-packages/torchvision/models/resnet.py\u001b[0m in \u001b[0;36mforward\u001b[0;34m(self, x)\u001b[0m\n\u001b[1;32m    101\u001b[0m \u001b[0;34m\u001b[0m\u001b[0m\n\u001b[1;32m    102\u001b[0m         \u001b[0mout\u001b[0m \u001b[0;34m=\u001b[0m \u001b[0mself\u001b[0m\u001b[0;34m.\u001b[0m\u001b[0mconv2\u001b[0m\u001b[0;34m(\u001b[0m\u001b[0mout\u001b[0m\u001b[0;34m)\u001b[0m\u001b[0;34m\u001b[0m\u001b[0;34m\u001b[0m\u001b[0m\n\u001b[0;32m--> 103\u001b[0;31m         \u001b[0mout\u001b[0m \u001b[0;34m=\u001b[0m \u001b[0mself\u001b[0m\u001b[0;34m.\u001b[0m\u001b[0mbn2\u001b[0m\u001b[0;34m(\u001b[0m\u001b[0mout\u001b[0m\u001b[0;34m)\u001b[0m\u001b[0;34m\u001b[0m\u001b[0;34m\u001b[0m\u001b[0m\n\u001b[0m\u001b[1;32m    104\u001b[0m         \u001b[0mout\u001b[0m \u001b[0;34m=\u001b[0m \u001b[0mself\u001b[0m\u001b[0;34m.\u001b[0m\u001b[0mrelu\u001b[0m\u001b[0;34m(\u001b[0m\u001b[0mout\u001b[0m\u001b[0;34m)\u001b[0m\u001b[0;34m\u001b[0m\u001b[0;34m\u001b[0m\u001b[0m\n\u001b[1;32m    105\u001b[0m \u001b[0;34m\u001b[0m\u001b[0m\n",
            "\u001b[0;32m/usr/local/lib/python3.6/dist-packages/torch/nn/modules/module.py\u001b[0m in \u001b[0;36m__call__\u001b[0;34m(self, *input, **kwargs)\u001b[0m\n\u001b[1;32m    539\u001b[0m             \u001b[0mresult\u001b[0m \u001b[0;34m=\u001b[0m \u001b[0mself\u001b[0m\u001b[0;34m.\u001b[0m\u001b[0m_slow_forward\u001b[0m\u001b[0;34m(\u001b[0m\u001b[0;34m*\u001b[0m\u001b[0minput\u001b[0m\u001b[0;34m,\u001b[0m \u001b[0;34m**\u001b[0m\u001b[0mkwargs\u001b[0m\u001b[0;34m)\u001b[0m\u001b[0;34m\u001b[0m\u001b[0;34m\u001b[0m\u001b[0m\n\u001b[1;32m    540\u001b[0m         \u001b[0;32melse\u001b[0m\u001b[0;34m:\u001b[0m\u001b[0;34m\u001b[0m\u001b[0;34m\u001b[0m\u001b[0m\n\u001b[0;32m--> 541\u001b[0;31m             \u001b[0mresult\u001b[0m \u001b[0;34m=\u001b[0m \u001b[0mself\u001b[0m\u001b[0;34m.\u001b[0m\u001b[0mforward\u001b[0m\u001b[0;34m(\u001b[0m\u001b[0;34m*\u001b[0m\u001b[0minput\u001b[0m\u001b[0;34m,\u001b[0m \u001b[0;34m**\u001b[0m\u001b[0mkwargs\u001b[0m\u001b[0;34m)\u001b[0m\u001b[0;34m\u001b[0m\u001b[0;34m\u001b[0m\u001b[0m\n\u001b[0m\u001b[1;32m    542\u001b[0m         \u001b[0;32mfor\u001b[0m \u001b[0mhook\u001b[0m \u001b[0;32min\u001b[0m \u001b[0mself\u001b[0m\u001b[0;34m.\u001b[0m\u001b[0m_forward_hooks\u001b[0m\u001b[0;34m.\u001b[0m\u001b[0mvalues\u001b[0m\u001b[0;34m(\u001b[0m\u001b[0;34m)\u001b[0m\u001b[0;34m:\u001b[0m\u001b[0;34m\u001b[0m\u001b[0;34m\u001b[0m\u001b[0m\n\u001b[1;32m    543\u001b[0m             \u001b[0mhook_result\u001b[0m \u001b[0;34m=\u001b[0m \u001b[0mhook\u001b[0m\u001b[0;34m(\u001b[0m\u001b[0mself\u001b[0m\u001b[0;34m,\u001b[0m \u001b[0minput\u001b[0m\u001b[0;34m,\u001b[0m \u001b[0mresult\u001b[0m\u001b[0;34m)\u001b[0m\u001b[0;34m\u001b[0m\u001b[0;34m\u001b[0m\u001b[0m\n",
            "\u001b[0;32m/usr/local/lib/python3.6/dist-packages/torch/nn/modules/batchnorm.py\u001b[0m in \u001b[0;36mforward\u001b[0;34m(self, input)\u001b[0m\n\u001b[1;32m     67\u001b[0m             \u001b[0mexponential_average_factor\u001b[0m \u001b[0;34m=\u001b[0m \u001b[0mself\u001b[0m\u001b[0;34m.\u001b[0m\u001b[0mmomentum\u001b[0m\u001b[0;34m\u001b[0m\u001b[0;34m\u001b[0m\u001b[0m\n\u001b[1;32m     68\u001b[0m \u001b[0;34m\u001b[0m\u001b[0m\n\u001b[0;32m---> 69\u001b[0;31m         \u001b[0;32mif\u001b[0m \u001b[0mself\u001b[0m\u001b[0;34m.\u001b[0m\u001b[0mtraining\u001b[0m \u001b[0;32mand\u001b[0m \u001b[0mself\u001b[0m\u001b[0;34m.\u001b[0m\u001b[0mtrack_running_stats\u001b[0m\u001b[0;34m:\u001b[0m\u001b[0;34m\u001b[0m\u001b[0;34m\u001b[0m\u001b[0m\n\u001b[0m\u001b[1;32m     70\u001b[0m             \u001b[0;31m# TODO: if statement only here to tell the jit to skip emitting this when it is None\u001b[0m\u001b[0;34m\u001b[0m\u001b[0;34m\u001b[0m\u001b[0;34m\u001b[0m\u001b[0m\n\u001b[1;32m     71\u001b[0m             \u001b[0;32mif\u001b[0m \u001b[0mself\u001b[0m\u001b[0;34m.\u001b[0m\u001b[0mnum_batches_tracked\u001b[0m \u001b[0;32mis\u001b[0m \u001b[0;32mnot\u001b[0m \u001b[0;32mNone\u001b[0m\u001b[0;34m:\u001b[0m\u001b[0;34m\u001b[0m\u001b[0;34m\u001b[0m\u001b[0m\n",
            "\u001b[0;31mKeyboardInterrupt\u001b[0m: "
          ]
        }
      ]
    },
    {
      "cell_type": "code",
      "metadata": {
        "colab_type": "code",
        "id": "9Jcy9vVC9QLy",
        "colab": {}
      },
      "source": [
        "img2vec = img2vec_pytorch.Img2Vec(\n",
        "    cuda=True, layer='layer2', layer_output_size=128, \n",
        "    channels=28, return_embedding=True, centre_crop=True)\n",
        "score_layer2_conv = find_scores(img2vec, 784, return_tensor=True)"
      ],
      "execution_count": 0,
      "outputs": []
    },
    {
      "cell_type": "code",
      "metadata": {
        "colab_type": "code",
        "id": "dicmv-Fc9QL0",
        "colab": {}
      },
      "source": [
        "img2vec = img2vec_pytorch.Img2Vec(\n",
        "    cuda=True, layer='layer3', layer_output_size=256, \n",
        "    channels=14, return_embedding=True, centre_crop=True)\n",
        "score_layer2_conv = find_scores(img2vec, 196, return_tensor=True)"
      ],
      "execution_count": 0,
      "outputs": []
    },
    {
      "cell_type": "code",
      "metadata": {
        "colab_type": "code",
        "id": "Qwcx0CQY9QL3",
        "colab": {}
      },
      "source": [
        "img2vec = img2vec_pytorch.Img2Vec(\n",
        "    cuda=True, layer='layer4', layer_output_size=512, \n",
        "    channels=7, return_embedding=True, centre_crop=True)\n",
        "score_layer2_conv = find_scores(img2vec, 49, return_tensor=True)"
      ],
      "execution_count": 0,
      "outputs": []
    },
    {
      "cell_type": "code",
      "metadata": {
        "id": "9PU7SNRyeP7z",
        "colab_type": "code",
        "colab": {}
      },
      "source": [
        ""
      ],
      "execution_count": 0,
      "outputs": []
    },
    {
      "cell_type": "code",
      "metadata": {
        "id": "E_SMXS7Efgz1",
        "colab_type": "code",
        "colab": {}
      },
      "source": [
        ""
      ],
      "execution_count": 0,
      "outputs": []
    },
    {
      "cell_type": "code",
      "metadata": {
        "id": "GWwzUvqvfh2D",
        "colab_type": "code",
        "colab": {}
      },
      "source": [
        ""
      ],
      "execution_count": 0,
      "outputs": []
    },
    {
      "cell_type": "code",
      "metadata": {
        "id": "4azhHCVpiF-l",
        "colab_type": "code",
        "colab": {}
      },
      "source": [
        "  ref_vec_list = np.array([img2vec.get_vec(img).numpy() for img in ref_img_list])\n",
        "  test_vec_list = np.array([img2vec.get_vec(img).numpy() for img in test_img_list])\n"
      ],
      "execution_count": 0,
      "outputs": []
    },
    {
      "cell_type": "code",
      "metadata": {
        "id": "4DX6XcL7SRME",
        "colab_type": "code",
        "colab": {}
      },
      "source": [
        "  ref_vec_list = ref_vec_list.reshape(ref_vec_list.shape[0], ref_vec_list.shape[2],ref_vec_list.shape[3]*ref_vec_list.shape[4])\n",
        "  test_vec_list = test_vec_list.reshape(test_vec_list.shape[0], test_vec_list.shape[2], test_vec_list.shape[3]*test_vec_list.shape[4])"
      ],
      "execution_count": 0,
      "outputs": []
    },
    {
      "cell_type": "code",
      "metadata": {
        "id": "oVK4t0-BTU2O",
        "colab_type": "code",
        "colab": {}
      },
      "source": [
        "def mcncc(v1, v2):\n",
        "  den = np.linalg.norm(v1, axis=1)*np.linalg.norm(v2, axis=1) + 1e-12\n",
        "  num = (v1*v2).sum(axis=1)\n",
        "  return (num/den).sum()"
      ],
      "execution_count": 0,
      "outputs": []
    },
    {
      "cell_type": "code",
      "metadata": {
        "id": "PB95BatPAE16",
        "colab_type": "code",
        "colab": {}
      },
      "source": [
        "  score = np.zeros((test_vec_list.shape[0], ref_vec_list.shape[0]))\n",
        "  for i, v1 in enumerate(test_vec_list):\n",
        "    for j, v2 in enumerate(ref_vec_list):\n",
        "      score[i, j] = mcncc(v1, v2)"
      ],
      "execution_count": 0,
      "outputs": []
    },
    {
      "cell_type": "code",
      "metadata": {
        "id": "SXv-L7kCZD6T",
        "colab_type": "code",
        "colab": {}
      },
      "source": [
        ""
      ],
      "execution_count": 0,
      "outputs": []
    },
    {
      "cell_type": "code",
      "metadata": {
        "id": "7SGjeq0hRx_B",
        "colab_type": "code",
        "colab": {}
      },
      "source": [
        "  score_sort = (-score).argsort(1)\n",
        "\n",
        "  pos_array = []\n",
        "  for a,b,c in zip(score_sort, score.argmax(1), label_table[:, 1]-1):\n",
        "    pos_array.append(np.where(a==c)[0][0])\n",
        "  pos_array = np.array(pos_array)\n",
        "\n",
        "  t = 5\n",
        "  thresh = t*pos_array.shape[0]/100\n",
        "  acc = 100*np.sum((pos_array<thresh))/pos_array.shape[0]\n",
        "  print(\"top {}: {}\".format(t, acc))\n",
        "\n",
        "  t = 10\n",
        "  thresh = t*pos_array.shape[0]/100\n",
        "  acc = 100*np.sum((pos_array<thresh))/pos_array.shape[0]\n",
        "  print(\"top {}: {}\".format(t, acc))"
      ],
      "execution_count": 0,
      "outputs": []
    },
    {
      "cell_type": "code",
      "metadata": {
        "id": "9QEcv-xkS5rA",
        "colab_type": "code",
        "colab": {}
      },
      "source": [
        "v1 = test_vec_list[0]\n",
        "v2 = ref_vec_list[0]"
      ],
      "execution_count": 0,
      "outputs": []
    },
    {
      "cell_type": "code",
      "metadata": {
        "id": "7l5prclWo7GI",
        "colab_type": "code",
        "colab": {}
      },
      "source": [
        "v1.shape"
      ],
      "execution_count": 0,
      "outputs": []
    },
    {
      "cell_type": "code",
      "metadata": {
        "id": "DXEtZhE4o7zS",
        "colab_type": "code",
        "colab": {}
      },
      "source": [
        "den = np.linalg.norm(v1, axis=1)*np.linalg.norm(v2, axis=1) + 1e-12\n",
        "num = (v1*v2).sum(axis=1)\n",
        "ans = (num/den).sum()"
      ],
      "execution_count": 0,
      "outputs": []
    },
    {
      "cell_type": "code",
      "metadata": {
        "id": "vnhZT6KbpMHY",
        "colab_type": "code",
        "colab": {}
      },
      "source": [
        "ans"
      ],
      "execution_count": 0,
      "outputs": []
    },
    {
      "cell_type": "code",
      "metadata": {
        "id": "3TKGEC8ypdO4",
        "colab_type": "code",
        "colab": {}
      },
      "source": [
        "img2vec = img2vec_pytorch.Img2Vec(\n",
        "    cuda=True, layer='layer3', layer_output_size=256, \n",
        "    channels=14, return_embedding=True)\n",
        "score_layer2_conv = find_scores_mcncc(img2vec, 196, return_tensor=True)"
      ],
      "execution_count": 0,
      "outputs": []
    },
    {
      "cell_type": "code",
      "metadata": {
        "id": "_pn0wSv7uxWG",
        "colab_type": "code",
        "colab": {}
      },
      "source": [
        "import torch\n",
        "import torch.nn as nn\n",
        "import torch.nn.functional as F\n",
        "import torchvision.models as models\n",
        "import torchsummary as summary\n",
        "\n",
        "import sys\n",
        "import os\n",
        "sys.path.insert(1, 'img2vec')\n",
        "from img2vec_pytorch import Img2Vec\n",
        "import img2vec_pytorch\n",
        "import importlib\n",
        "importlib.reload(img2vec_pytorch)\n",
        "\n",
        "from PIL import Image\n",
        "import numpy as np\n",
        "\n",
        "import img2vec_pytorch\n",
        "import importlib\n",
        "importlib.reload(img2vec_pytorch)\n",
        "img2vec = img2vec_pytorch.Img2Vec(cuda=True, layer_output_size=2048)"
      ],
      "execution_count": 0,
      "outputs": []
    },
    {
      "cell_type": "code",
      "metadata": {
        "id": "xnqZKT1Ma5qi",
        "colab_type": "code",
        "colab": {}
      },
      "source": [
        "model = models.resnet50(pretrained=True)"
      ],
      "execution_count": 0,
      "outputs": []
    },
    {
      "cell_type": "code",
      "metadata": {
        "id": "63fDw6BAkVsZ",
        "colab_type": "code",
        "colab": {}
      },
      "source": [
        "device = torch.device(\"cuda\" if torch.cuda.is_available() else \"cpu\")\n",
        "model = model.to(device)\n",
        "\n",
        "# summary.summary(model, (3, 224, 224))"
      ],
      "execution_count": 0,
      "outputs": []
    },
    {
      "cell_type": "code",
      "metadata": {
        "id": "7gbResH9k5D1",
        "colab_type": "code",
        "colab": {}
      },
      "source": [
        "device = torch.device(\"cuda\" if torch.cuda.is_available() else \"cpu\")\n",
        "model = model.to(device)"
      ],
      "execution_count": 0,
      "outputs": []
    },
    {
      "cell_type": "code",
      "metadata": {
        "id": "jLFACglAnprZ",
        "colab_type": "code",
        "colab": {}
      },
      "source": [
        ""
      ],
      "execution_count": 0,
      "outputs": []
    },
    {
      "cell_type": "code",
      "metadata": {
        "id": "9pDrvm7Tnwi1",
        "colab_type": "code",
        "colab": {}
      },
      "source": [
        ""
      ],
      "execution_count": 0,
      "outputs": []
    },
    {
      "cell_type": "code",
      "metadata": {
        "id": "E-WU1QUIn18b",
        "colab_type": "code",
        "colab": {}
      },
      "source": [
        ""
      ],
      "execution_count": 0,
      "outputs": []
    },
    {
      "cell_type": "code",
      "metadata": {
        "id": "51_ehLnwq12z",
        "colab_type": "code",
        "colab": {}
      },
      "source": [
        "img"
      ],
      "execution_count": 0,
      "outputs": []
    },
    {
      "cell_type": "code",
      "metadata": {
        "id": "DuE5M-omv6ki",
        "colab_type": "code",
        "colab": {}
      },
      "source": [
        "image = img2vec.normalize(img2vec.to_tensor(img2vec.scaler(img))).unsqueeze(0).to(img2vec.device)\n",
        "img2vec.model(image)"
      ],
      "execution_count": 0,
      "outputs": []
    },
    {
      "cell_type": "code",
      "metadata": {
        "id": "oYcR3-TYwIq4",
        "colab_type": "code",
        "colab": {}
      },
      "source": [
        "img2vec.model"
      ],
      "execution_count": 0,
      "outputs": []
    },
    {
      "cell_type": "code",
      "metadata": {
        "id": "kMVOukwNwlzL",
        "colab_type": "code",
        "colab": {}
      },
      "source": [
        "image = img2vec.normalize(img2vec.to_tensor(img2vec.scaler(img))).unsqueeze(0).to(img2vec.device)\n",
        "global my_embedding\n",
        "# my_embedding = torch.zeros(1, img2vec.layer_output_size, img2vec.channels, img2vec.channels)\n",
        "\n",
        "\n",
        "def copy_data(m, i, o):\n",
        "    global s\n",
        "    global my_embedding\n",
        "    s = o.data.clone()\n",
        "    # print(\"my_embedding in1= {}\".format(my_embedding))\n",
        "    # my_embedding = o.data.clone()\n",
        "    # my_embedding.copy_(o.data)\n",
        "    my_embedding = o.data.clone()\n",
        "    print(\"my_embedding in= {}\".format(my_embedding))\n",
        "    # .copy_(o.data)\n",
        "\n",
        "h = img2vec.extraction_layer.register_forward_hook(copy_data)\n",
        "h_x = img2vec.model(image)\n",
        "h.remove()\n",
        "print(\"my_embedding out = {}\".format(my_embedding))\n",
        "\n",
        "# if img2vec.return_embedding:\n",
        "#     return my_embedding\n",
        "\n",
        "my_embedding = F.adaptive_avg_pool2d(my_embedding, (1, 1))"
      ],
      "execution_count": 0,
      "outputs": []
    },
    {
      "cell_type": "code",
      "metadata": {
        "id": "deKNHtbj3_xA",
        "colab_type": "code",
        "colab": {}
      },
      "source": [
        "img2vec.get_vec"
      ],
      "execution_count": 0,
      "outputs": []
    },
    {
      "cell_type": "code",
      "metadata": {
        "id": "nLp-c5rF5iPN",
        "colab_type": "code",
        "colab": {}
      },
      "source": [
        ""
      ],
      "execution_count": 0,
      "outputs": []
    }
  ]
}